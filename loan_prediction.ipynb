{
 "cells": [
  {
   "cell_type": "code",
   "execution_count": 3,
   "metadata": {
    "collapsed": true
   },
   "outputs": [],
   "source": [
    "import pandas as pd\n",
    "import numpy as np \n",
    "import matplotlib as plt\n",
    "%matplotlib inline\n",
    "import seaborn as sns\n",
    "sns.set(style=\"whitegrid\", color_codes=True)"
   ]
  },
  {
   "cell_type": "code",
   "execution_count": 181,
   "metadata": {
    "collapsed": false
   },
   "outputs": [
    {
     "data": {
      "text/html": [
       "<div>\n",
       "<table border=\"1\" class=\"dataframe\">\n",
       "  <thead>\n",
       "    <tr style=\"text-align: right;\">\n",
       "      <th></th>\n",
       "      <th>ApplicantIncome</th>\n",
       "      <th>CoapplicantIncome</th>\n",
       "      <th>LoanAmount</th>\n",
       "      <th>Loan_Amount_Term</th>\n",
       "      <th>Credit_History</th>\n",
       "    </tr>\n",
       "  </thead>\n",
       "  <tbody>\n",
       "    <tr>\n",
       "      <th>count</th>\n",
       "      <td>614.000000</td>\n",
       "      <td>614.000000</td>\n",
       "      <td>592.000000</td>\n",
       "      <td>600.00000</td>\n",
       "      <td>564.000000</td>\n",
       "    </tr>\n",
       "    <tr>\n",
       "      <th>mean</th>\n",
       "      <td>5403.459283</td>\n",
       "      <td>1621.245798</td>\n",
       "      <td>146412.162162</td>\n",
       "      <td>342.00000</td>\n",
       "      <td>0.842199</td>\n",
       "    </tr>\n",
       "    <tr>\n",
       "      <th>std</th>\n",
       "      <td>6109.041673</td>\n",
       "      <td>2926.248369</td>\n",
       "      <td>85587.325236</td>\n",
       "      <td>65.12041</td>\n",
       "      <td>0.364878</td>\n",
       "    </tr>\n",
       "    <tr>\n",
       "      <th>min</th>\n",
       "      <td>150.000000</td>\n",
       "      <td>0.000000</td>\n",
       "      <td>9000.000000</td>\n",
       "      <td>12.00000</td>\n",
       "      <td>0.000000</td>\n",
       "    </tr>\n",
       "    <tr>\n",
       "      <th>25%</th>\n",
       "      <td>2877.500000</td>\n",
       "      <td>0.000000</td>\n",
       "      <td>100000.000000</td>\n",
       "      <td>360.00000</td>\n",
       "      <td>1.000000</td>\n",
       "    </tr>\n",
       "    <tr>\n",
       "      <th>50%</th>\n",
       "      <td>3812.500000</td>\n",
       "      <td>1188.500000</td>\n",
       "      <td>128000.000000</td>\n",
       "      <td>360.00000</td>\n",
       "      <td>1.000000</td>\n",
       "    </tr>\n",
       "    <tr>\n",
       "      <th>75%</th>\n",
       "      <td>5795.000000</td>\n",
       "      <td>2297.250000</td>\n",
       "      <td>168000.000000</td>\n",
       "      <td>360.00000</td>\n",
       "      <td>1.000000</td>\n",
       "    </tr>\n",
       "    <tr>\n",
       "      <th>max</th>\n",
       "      <td>81000.000000</td>\n",
       "      <td>41667.000000</td>\n",
       "      <td>700000.000000</td>\n",
       "      <td>480.00000</td>\n",
       "      <td>1.000000</td>\n",
       "    </tr>\n",
       "  </tbody>\n",
       "</table>\n",
       "</div>"
      ],
      "text/plain": [
       "       ApplicantIncome  CoapplicantIncome     LoanAmount  Loan_Amount_Term  \\\n",
       "count       614.000000         614.000000     592.000000         600.00000   \n",
       "mean       5403.459283        1621.245798  146412.162162         342.00000   \n",
       "std        6109.041673        2926.248369   85587.325236          65.12041   \n",
       "min         150.000000           0.000000    9000.000000          12.00000   \n",
       "25%        2877.500000           0.000000  100000.000000         360.00000   \n",
       "50%        3812.500000        1188.500000  128000.000000         360.00000   \n",
       "75%        5795.000000        2297.250000  168000.000000         360.00000   \n",
       "max       81000.000000       41667.000000  700000.000000         480.00000   \n",
       "\n",
       "       Credit_History  \n",
       "count      564.000000  \n",
       "mean         0.842199  \n",
       "std          0.364878  \n",
       "min          0.000000  \n",
       "25%          1.000000  \n",
       "50%          1.000000  \n",
       "75%          1.000000  \n",
       "max          1.000000  "
      ]
     },
     "execution_count": 181,
     "metadata": {},
     "output_type": "execute_result"
    }
   ],
   "source": [
    "#VARIABLE DESCRIPTIONS:\n",
    "#Variable\t          Description\n",
    "#Loan_ID\t                  Unique Loan ID\n",
    "#Gender\t                  Male/ Female\n",
    "#Married\t                  Applicant married (Y/N)\n",
    "#Dependents\t          Number of dependents\n",
    "#Education\t          Applicant Education (Graduate/ Under Graduate)\n",
    "#Self_Employed\t          Self employed (Y/N)\n",
    "#ApplicantIncome\t          Applicant income\n",
    "#CoapplicantIncome\t  Coapplicant income\n",
    "#LoanAmount\t          Loan amount in thousands\n",
    "#Loan_Amount_Term\t  Term of loan in months\n",
    "#Credit_History\t          credit history meets guidelines\n",
    "#Property_Area\t          Urban/ Semi Urban/ Rural\n",
    "#Loan_Status\t          Loan approved (Y/N)\n",
    "#check missing values\n",
    "#df.apply(lambda x: sum(x.isnull()), axis=0)\n",
    "df = pd.read_csv(\"train.csv\")\n",
    "df['LoanAmount'] = df['LoanAmount'] * 1000\n",
    "df.head(10)\n",
    "df.describe()"
   ]
  },
  {
   "cell_type": "code",
   "execution_count": 176,
   "metadata": {
    "collapsed": false
   },
   "outputs": [
    {
     "data": {
      "text/plain": [
       "Y    0.430173\n",
       "     0.374108\n",
       "N    0.195719\n",
       "Name: Loan_Status, dtype: float64"
      ]
     },
     "execution_count": 176,
     "metadata": {},
     "output_type": "execute_result"
    }
   ],
   "source": [
    "df.columns\n",
    "df['Loan_Status'].value_counts()\n",
    "df.Loan_Status.value_counts(normalize=True)"
   ]
  },
  {
   "cell_type": "code",
   "execution_count": 177,
   "metadata": {
    "collapsed": false
   },
   "outputs": [
    {
     "data": {
      "text/plain": [
       "<matplotlib.axes._subplots.AxesSubplot at 0x1082fda0>"
      ]
     },
     "execution_count": 177,
     "metadata": {},
     "output_type": "execute_result"
    },
    {
     "data": {
      "image/png": "[encoded data removed]",
      "text/plain": [
       "<matplotlib.figure.Figure at 0x11091160>"
      ]
     },
     "metadata": {},
     "output_type": "display_data"
    }
   ],
   "source": [
    "#Histogram and boxplot of loan amount\n",
    "df['LoanAmount'].hist(bins=50)"
   ]
  },
  {
   "cell_type": "code",
   "execution_count": 178,
   "metadata": {
    "collapsed": false
   },
   "outputs": [
    {
     "data": {
      "text/plain": [
       "<matplotlib.axes._subplots.AxesSubplot at 0x119be860>"
      ]
     },
     "execution_count": 178,
     "metadata": {},
     "output_type": "execute_result"
    },
    {
     "data": {
      "image/png": "[encoded data removed]",
      "text/plain": [
       "<matplotlib.figure.Figure at 0x119c8cc0>"
      ]
     },
     "metadata": {},
     "output_type": "display_data"
    }
   ],
   "source": [
    "df.boxplot(column='LoanAmount')"
   ]
  },
  {
   "cell_type": "code",
   "execution_count": 179,
   "metadata": {
    "collapsed": false
   },
   "outputs": [
    {
     "data": {
      "text/plain": [
       "<matplotlib.axes._subplots.AxesSubplot at 0x11a89908>"
      ]
     },
     "execution_count": 179,
     "metadata": {},
     "output_type": "execute_result"
    },
    {
     "data": {
      "image/png": "[encoded data removed]",
      "text/plain": [
       "<matplotlib.figure.Figure at 0x119cad30>"
      ]
     },
     "metadata": {},
     "output_type": "display_data"
    }
   ],
   "source": [
    "df.boxplot(column='ApplicantIncome')"
   ]
  },
  {
   "cell_type": "markdown",
   "metadata": {},
   "source": [
    "Applicant income has 14 missing values and outliers and Loan Amount has 22 missing values and outliers. "
   ]
  },
  {
   "cell_type": "code",
   "execution_count": 180,
   "metadata": {
    "collapsed": false
   },
   "outputs": [
    {
     "data": {
      "text/plain": [
       "Education         \n",
       "Graduate      0.10     2333.0\n",
       "              0.25     3010.0\n",
       "              0.50     4000.0\n",
       "              1.00    81000.0\n",
       "Not Graduate  0.10     1961.5\n",
       "              0.25     2494.0\n",
       "              0.50     3333.0\n",
       "              1.00    18165.0\n",
       "Name: ApplicantIncome, dtype: float64"
      ]
     },
     "execution_count": 180,
     "metadata": {},
     "output_type": "execute_result"
    },
    {
     "data": {
      "image/png": "[encoded data removed]",
      "text/plain": [
       "<matplotlib.figure.Figure at 0x11c7c9b0>"
      ]
     },
     "metadata": {},
     "output_type": "display_data"
    }
   ],
   "source": [
    "#Application Income by Education\n",
    "df.boxplot(column='ApplicantIncome', by = 'Education')\n",
    "#df.groupby(['Education'])['ApplicantIncome'].mean()\n",
    "df.groupby(['Education'])['ApplicantIncome'].quantile([.1, .25, .5, 1])"
   ]
  },
  {
   "cell_type": "markdown",
   "metadata": {},
   "source": [
    "On average, Graduates have a higher income (about $2000) relative to Non-Graduates. However, Graduate applicant incomes have outliers that Non-Graduates don't. Both LoanAmount and ApplicantIncome have outliers and missing values that need to be addressed before modeling with this dataset. "
   ]
  },
  {
   "cell_type": "code",
   "execution_count": 77,
   "metadata": {
    "collapsed": false,
    "scrolled": true
   },
   "outputs": [
    {
     "data": {
      "text/plain": [
       "Credit_History  Loan_Status\n",
       "0.0             N              0.921348\n",
       "                Y              0.078652\n",
       "1.0             Y              0.795789\n",
       "                N              0.204211\n",
       "Name: Loan_Status, dtype: float64"
      ]
     },
     "execution_count": 77,
     "metadata": {},
     "output_type": "execute_result"
    },
    {
     "data": {
      "image/png": "[encoded data removed]",
      "text/plain": [
       "<matplotlib.figure.Figure at 0x1047e7f0>"
      ]
     },
     "metadata": {},
     "output_type": "display_data"
    }
   ],
   "source": [
    "#Plot loan status by credit history \n",
    "temp = pd.crosstab(df['Credit_History'], df['Loan_Status'])\n",
    "temp.plot(kind='bar', stacked=True, color=['red', 'blue'], grid=False)\n",
    "df.groupby(['Credit_History'])['Loan_Status'].value_counts(normalize=True)"
   ]
  },
  {
   "cell_type": "markdown",
   "metadata": {},
   "source": [
    "As expected customers with good credit history are more likely to receive a loan relative to those without a good credit history."
   ]
  },
  {
   "cell_type": "code",
   "execution_count": 78,
   "metadata": {
    "collapsed": false
   },
   "outputs": [
    {
     "data": {
      "text/plain": [
       "<matplotlib.axes._subplots.AxesSubplot at 0xf168898>"
      ]
     },
     "execution_count": 78,
     "metadata": {},
     "output_type": "execute_result"
    },
    {
     "data": {
      "image/png": "[encoded data removed]",
      "text/plain": [
       "<matplotlib.figure.Figure at 0x10845ac8>"
      ]
     },
     "metadata": {},
     "output_type": "display_data"
    }
   ],
   "source": [
    "#Credit History & Gender\n",
    "df['credit_gender'] = pd.Categorical(df['Credit_History'].astype(str)+\"_\"+ df['Gender'])\n",
    "temp1 = pd.crosstab(df['credit_gender'], df['Loan_Status'])\n",
    "temp1.plot(kind='bar', stacked=True, color=['red', 'blue'], grid=False)"
   ]
  },
  {
   "cell_type": "markdown",
   "metadata": {},
   "source": [
    "The surprising insight here is on average, it is harder for women with good credit to get a loan than it is for men with good credit. "
   ]
  },
  {
   "cell_type": "code",
   "execution_count": 182,
   "metadata": {
    "collapsed": false,
    "scrolled": true
   },
   "outputs": [
    {
     "data": {
      "text/plain": [
       "Loan_ID               0\n",
       "Gender               13\n",
       "Married               3\n",
       "Dependents           15\n",
       "Education             0\n",
       "Self_Employed        32\n",
       "ApplicantIncome       0\n",
       "CoapplicantIncome     0\n",
       "LoanAmount           22\n",
       "Loan_Amount_Term     14\n",
       "Credit_History       50\n",
       "Property_Area         0\n",
       "Loan_Status           0\n",
       "dtype: int64"
      ]
     },
     "execution_count": 182,
     "metadata": {},
     "output_type": "execute_result"
    }
   ],
   "source": [
    "#Check missing values in the dataset\n",
    "df.apply(lambda x: sum(x.isnull()), axis=0)"
   ]
  },
  {
   "cell_type": "code",
   "execution_count": 79,
   "metadata": {
    "collapsed": false,
    "scrolled": true
   },
   "outputs": [
    {
     "data": {
      "text/plain": [
       "<matplotlib.axes._subplots.AxesSubplot at 0xe5daa58>"
      ]
     },
     "execution_count": 79,
     "metadata": {},
     "output_type": "execute_result"
    },
    {
     "data": {
      "image/png": "[encoded data removed]",
      "text/plain": [
       "<matplotlib.figure.Figure at 0xf159470>"
      ]
     },
     "metadata": {},
     "output_type": "display_data"
    }
   ],
   "source": [
    "#One of the hypothesis is if people who are self-employed and educated are more likely to get a higher loan amount.\n",
    "sns.boxplot(x=\"Education\", y=\"LoanAmount\", hue=\"Self_Employed\", data=df)\n",
    "#The median loan amount varies with education and self-employment status. "
   ]
  },
  {
   "cell_type": "code",
   "execution_count": 80,
   "metadata": {
    "collapsed": false
   },
   "outputs": [
    {
     "data": {
      "text/plain": [
       "Married  Loan_Status\n",
       "No       Y              0.629108\n",
       "         N              0.370892\n",
       "Yes      Y              0.716080\n",
       "         N              0.283920\n",
       "Name: Loan_Status, dtype: float64"
      ]
     },
     "execution_count": 80,
     "metadata": {},
     "output_type": "execute_result"
    }
   ],
   "source": [
    "#Frequency count of self-employed status\n",
    "df.groupby(['Self_Employed']).Loan_Status.value_counts(normalize=True)\n",
    "#loan_status doesn't vary much by self-employed status - irrespective of the status it is 70%/30% split in favor\n",
    "#of getting a loan.\n",
    "#frequency count by marital status\n",
    "df['Married'].value_counts()\n",
    "df.groupby(['Married']).Loan_Status.value_counts(normalize=True)\n",
    "#Married customers are slightly more likely to obtain a loan"
   ]
  },
  {
   "cell_type": "code",
   "execution_count": 81,
   "metadata": {
    "collapsed": true
   },
   "outputs": [],
   "source": [
    "#Since 86% of the observations are 'No', we can impute the missing values for\n",
    "df['Self_Employed'].fillna('No', inplace=True)"
   ]
  },
  {
   "cell_type": "code",
   "execution_count": 82,
   "metadata": {
    "collapsed": false
   },
   "outputs": [],
   "source": [
    "table = df.pivot_table(values='LoanAmount', index='Self_Employed' ,columns='Education', aggfunc=np.median)\n",
    "# Define function to return value of this pivot_table\n",
    "def fage(x):\n",
    " return table.loc[x['Self_Employed'],x['Education']]\n",
    "# Replace missing values of loan amount with category specific (self employed, education) loan amounts\n",
    "df['LoanAmount'].fillna(df[df['LoanAmount'].isnull()].apply(fage, axis=1), inplace=True)"
   ]
  },
  {
   "cell_type": "code",
   "execution_count": 136,
   "metadata": {
    "collapsed": false
   },
   "outputs": [
    {
     "data": {
      "text/plain": [
       "<matplotlib.axes._subplots.AxesSubplot at 0x10652c50>"
      ]
     },
     "execution_count": 136,
     "metadata": {},
     "output_type": "execute_result"
    },
    {
     "data": {
      "image/png": "[encoded data removed]",
      "text/plain": [
       "<matplotlib.figure.Figure at 0x10d5bd68>"
      ]
     },
     "metadata": {},
     "output_type": "display_data"
    }
   ],
   "source": [
    "#Since loan amount is right skewed and the outliers are data that should be included in the modeling since some \n",
    "#customers may apply for large loan amounts, hence to include them, we compute the log of loan amount \n",
    "df['loanamt_log'] = np.log(df['LoanAmount'])\n",
    "df['loanamt_log'].hist(bins=20)"
   ]
  },
  {
   "cell_type": "code",
   "execution_count": 84,
   "metadata": {
    "collapsed": false
   },
   "outputs": [],
   "source": [
    "#Impute Gender, Married, Dependents, loantermamount, credithistory\n",
    "#impute 13 observations for Gender\n",
    "df['Gender'].value_counts()\n",
    "df['Gender'].fillna('Male', inplace=True)"
   ]
  },
  {
   "cell_type": "code",
   "execution_count": 45,
   "metadata": {
    "collapsed": false
   },
   "outputs": [
    {
     "data": {
      "text/plain": [
       "Yes    401\n",
       "No     213\n",
       "Name: Married, dtype: int64"
      ]
     },
     "execution_count": 45,
     "metadata": {},
     "output_type": "execute_result"
    }
   ],
   "source": [
    "#impute 3 observations\n",
    "df['Married'].fillna('Yes', inplace=True)\n",
    "df['Married'].value_counts()"
   ]
  },
  {
   "cell_type": "code",
   "execution_count": 85,
   "metadata": {
    "collapsed": false
   },
   "outputs": [],
   "source": [
    "#impute 15 observationsn for Dependents. \n",
    "df['Dependents'].value_counts()\n",
    "df['Dependents'].fillna(0, inplace=True)"
   ]
  },
  {
   "cell_type": "code",
   "execution_count": 86,
   "metadata": {
    "collapsed": false
   },
   "outputs": [],
   "source": [
    "#Loan Term Amount\n",
    "df['Loan_Amount_Term'].value_counts()\n",
    "df['Loan_Amount_Term'].fillna(360.0, inplace=True)"
   ]
  },
  {
   "cell_type": "code",
   "execution_count": 87,
   "metadata": {
    "collapsed": false
   },
   "outputs": [],
   "source": [
    "#CreditHistory - this has maximum number of missing values - build a model? \n",
    "df['Credit_History'].value_counts()\n",
    "df['Credit_History'].fillna(1.0, inplace=True)"
   ]
  },
  {
   "cell_type": "code",
   "execution_count": 143,
   "metadata": {
    "collapsed": false
   },
   "outputs": [
    {
     "data": {
      "text/plain": [
       "Loan_Status\n",
       "0    151220.994475\n",
       "1    144294.403893\n",
       "Name: LoanAmount, dtype: float64"
      ]
     },
     "execution_count": 143,
     "metadata": {},
     "output_type": "execute_result"
    }
   ],
   "source": [
    "#Create variables to measure whether customer will pay back the loan\n",
    "df['totalincome'] = df['ApplicantIncome'] + df['CoapplicantIncome']\n",
    "df['totalincome_log'] = np.log(df.totalincome)\n",
    "df['pay_back'] = df['LoanAmount'] / df['totalincome']\n",
    "df.groupby('Loan_Status')['totalincome'].mean()\n",
    "#df.groupby('Loan_Status')['pay_back'].mean()\n",
    "df.groupby('Loan_Status')['LoanAmount'].mean()\n",
    "#df.groupby('Loan_Status')['Loan_Amount_Term'].mean()\n",
    "#Loan amount is slightly lower for customers getting the loan, not much different across the loan_status groups\n",
    "#for total income and pay_back ratio"
   ]
  },
  {
   "cell_type": "code",
   "execution_count": 125,
   "metadata": {
    "collapsed": false
   },
   "outputs": [
    {
     "data": {
      "text/plain": [
       "Property_Area  Loan_Status\n",
       "0              1              0.614525\n",
       "               0              0.385475\n",
       "1              1              0.768240\n",
       "               0              0.231760\n",
       "2              1              0.658416\n",
       "               0              0.341584\n",
       "Name: Loan_Status, dtype: float64"
      ]
     },
     "execution_count": 125,
     "metadata": {},
     "output_type": "execute_result"
    }
   ],
   "source": [
    "#urban/semi-urban/rural\n",
    "df.Property_Area.value_counts()\n",
    "df.groupby(['Property_Area'])['Loan_Status'].value_counts(normalize=True)\n",
    "#0: Rural, 1=Semi-Urban, 2=Urban\n",
    "#Semi-Urban customers are most likely to get a loan followed by Urban and Rural."
   ]
  },
  {
   "cell_type": "code",
   "execution_count": 151,
   "metadata": {
    "collapsed": false
   },
   "outputs": [
    {
     "data": {
      "text/plain": [
       "Loan_ID               object\n",
       "Gender                 int64\n",
       "Married                int64\n",
       "Dependents             int64\n",
       "Education              int64\n",
       "Self_Employed          int64\n",
       "ApplicantIncome        int64\n",
       "CoapplicantIncome    float64\n",
       "LoanAmount           float64\n",
       "Loan_Amount_Term       int64\n",
       "Credit_History         int64\n",
       "Property_Area          int64\n",
       "Loan_Status            int64\n",
       "totalincome          float64\n",
       "pay_back               int64\n",
       "loanamt_log            int64\n",
       "totalincome_log        int64\n",
       "dtype: object"
      ]
     },
     "execution_count": 151,
     "metadata": {},
     "output_type": "execute_result"
    }
   ],
   "source": [
    "#Build a predictive model to predict a customer's loan status\n",
    "#Since sklearn needs all the inputs in the model to be numeric, convert all categorical variables into numeric\n",
    "#by encoding the categories. \n",
    "from sklearn.preprocessing import LabelEncoder\n",
    "var_mod = ['Gender', 'Married', 'Dependents', 'Education', 'Self_Employed', 'Property_Area', 'Loan_Status',\n",
    "           'Credit_History','totalincome_log', 'pay_back', 'loanamt_log', 'Loan_Amount_Term']\n",
    "le = LabelEncoder()\n",
    "for i in var_mod:\n",
    "    #print(df[i])\n",
    "    df[i] = le.fit_transform(df[i])\n",
    "    #print(df[i])\n",
    "df.dtypes"
   ]
  },
  {
   "cell_type": "code",
   "execution_count": 159,
   "metadata": {
    "collapsed": false
   },
   "outputs": [],
   "source": [
    "#Define a generic classification function that takes a model as an input and determines the accuracy and \n",
    "#cross-validation scores.\n",
    "#Import models from scikit learn module:\n",
    "from sklearn.linear_model import LogisticRegression\n",
    "from sklearn.cross_validation import KFold   #For K-fold cross validation\n",
    "from sklearn.ensemble import RandomForestClassifier\n",
    "from sklearn.tree import DecisionTreeClassifier, export_graphviz\n",
    "from sklearn import metrics\n",
    "\n",
    "from sklearn.linear_model import LogisticRegression\n",
    "from sklearn.cross_validation import KFold\n",
    "from sklearn.ensemble import RandomForestClassifier\n",
    "from sklearn.tree import DecisionTreeClassifier, export_graphviz\n",
    "from sklearn import metrics\n",
    "\n",
    "#Generic function for a classification model and assessing performance:\n",
    "def classification_model(model, data, predictors, outcome):\n",
    "    #fit the model:\n",
    "    model.fit(data[predictors], data[outcome])\n",
    "    #Make predictions on training set:\n",
    "    pred = model.predict(data[predictors])\n",
    "    \n",
    "    #print accuracy\n",
    "    accuracy = metrics.accuracy_score(pred, data[outcome])\n",
    "    print \"Accuracy : %s\" % \"{0:.3%}\".format(accuracy)\n",
    "    \n",
    "    #perform k-fold cross-validation with 5 folds\n",
    "    kf = KFold(data.shape[0], n_folds=5)\n",
    "    cv_accu = []\n",
    "    for train, test in kf:\n",
    "        #training data\n",
    "        train_predictors = (data[predictors].iloc[train,:])\n",
    "        #dependent variable for training set\n",
    "        train_target = data[outcome].iloc[train]\n",
    "        #train the classification model using training predictors and outcome\n",
    "        model.fit(train_predictors, train_target)\n",
    "        #compute error from each cross-validation run\n",
    "        cv_accu.append(model.score(data[predictors].iloc[test,:], data[outcome].iloc[test]))\n",
    "    print(\"Cross-Validation Score: %s\" % \"{0:.3%}\".format(np.mean(cv_accu)))\n",
    "\n",
    "    #fit the model again so it can be refered outside the function:\n",
    "    model.fit(data[predictors], data[outcome])"
   ]
  },
  {
   "cell_type": "code",
   "execution_count": 160,
   "metadata": {
    "collapsed": false
   },
   "outputs": [
    {
     "name": "stdout",
     "output_type": "stream",
     "text": [
      "Accuracy : 68.730%\n",
      "Cross-Validation Score: 68.729%\n"
     ]
    }
   ],
   "source": [
    "#Model loan status using Logistic Regression and only credit class as a predictor since in the exploratory analyses\n",
    "#above we observed, customers with good credit are 80% likely to get a loan whereas customers with bad credit history\n",
    "#are 90% likely to not get a loan they applied for\n",
    "outcome_var = 'Loan_Status'\n",
    "model = LogisticRegression()\n",
    "predictor_var = ['Credit_History']\n",
    "classification_model(model, df,predictor_var,outcome_var)"
   ]
  },
  {
   "cell_type": "code",
   "execution_count": 161,
   "metadata": {
    "collapsed": false
   },
   "outputs": [
    {
     "name": "stdout",
     "output_type": "stream",
     "text": [
      "Accuracy : 68.893%\n",
      "Cross-Validation Score: 68.729%\n"
     ]
    }
   ],
   "source": [
    "#Add more variables to the predictors list based on observations in the exploratory analyses\n",
    "#applications with higher education level are likely to get a loan\n",
    "#Male are more likely to get a loan relative to female\n",
    "predictor_var = ['Credit_History', 'Education', 'Gender', 'Property_Area']\n",
    "classification_model(model, df, predictor_var, outcome_var)\n",
    "#Credit History seems to dominate the model"
   ]
  },
  {
   "cell_type": "code",
   "execution_count": 162,
   "metadata": {
    "collapsed": false
   },
   "outputs": [
    {
     "name": "stdout",
     "output_type": "stream",
     "text": [
      "Accuracy : 68.404%\n",
      "Cross-Validation Score: 67.914%\n"
     ]
    }
   ],
   "source": [
    "#Add loan amount, pay_back ratio and total income\n",
    "predictor_var = ['Credit_History', 'Education', 'Gender', 'Property_Area', 'loanamt_log', 'pay_back', 'totalincome_log']\n",
    "classification_model(model, df, predictor_var, outcome_var)"
   ]
  },
  {
   "cell_type": "code",
   "execution_count": 163,
   "metadata": {
    "collapsed": false
   },
   "outputs": [
    {
     "name": "stdout",
     "output_type": "stream",
     "text": [
      "Accuracy : 100.000%\n",
      "Cross-Validation Score: 71.006%\n"
     ]
    }
   ],
   "source": [
    "#Since the accuracy and cross-validation score doesn't seem to improve with Logistic Regression, let us\n",
    "#explore Decision Tree and Ensemble models\n",
    "model = DecisionTreeClassifier()\n",
    "predictor_var = ['Credit_History', 'Education', 'Gender', 'Property_Area', 'loanamt_log', 'pay_back', 'totalincome_log']\n",
    "classification_model(model, df,predictor_var,outcome_var)"
   ]
  },
  {
   "cell_type": "code",
   "execution_count": 164,
   "metadata": {
    "collapsed": false
   },
   "outputs": [
    {
     "name": "stdout",
     "output_type": "stream",
     "text": [
      "Accuracy : 100.000%\n",
      "Cross-Validation Score: 78.830%\n"
     ]
    }
   ],
   "source": [
    "#Since the accuracy of the model went up to 100%, the model is over-fitting the data. Let's see if we can \n",
    "#avoid over-fitting using an ensemble model such as randomforest or xgboost\n",
    "model = RandomForestClassifier(n_estimators=100)\n",
    "predictor_var = ['Credit_History', 'Education', 'Gender', 'Property_Area', 'loanamt_log', 'pay_back', 'totalincome_log', \n",
    "                 'Married', 'Dependents', 'Self_Employed', 'Loan_Amount_Term', 'Property_Area']\n",
    "classification_model(model, df, predictor_var, outcome_var)"
   ]
  },
  {
   "cell_type": "code",
   "execution_count": 165,
   "metadata": {
    "collapsed": false
   },
   "outputs": [
    {
     "name": "stdout",
     "output_type": "stream",
     "text": [
      "Credit_History      0.270558\n",
      "pay_back            0.182718\n",
      "totalincome_log     0.169120\n",
      "loanamt_log         0.159182\n",
      "Dependents          0.045881\n",
      "Loan_Amount_Term    0.034792\n",
      "Self_Employed       0.025967\n",
      "Property_Area       0.024553\n",
      "Property_Area       0.024395\n",
      "Gender              0.023136\n",
      "Married             0.020469\n",
      "Education           0.019228\n",
      "dtype: float64\n"
     ]
    }
   ],
   "source": [
    "#Since the accuracy is still 100%, let us look at the feature importance matrix to identify the most important features\n",
    "featimp = pd.Series(model.feature_importances_, index=predictor_var).sort_values(ascending=False)\n",
    "print featimp"
   ]
  },
  {
   "cell_type": "code",
   "execution_count": 167,
   "metadata": {
    "collapsed": false
   },
   "outputs": [
    {
     "name": "stdout",
     "output_type": "stream",
     "text": [
      "Accuracy : 82.899%\n",
      "Cross-Validation Score: 80.946%\n"
     ]
    }
   ],
   "source": [
    "#Let's use the top 5 variables to build the random forest model\n",
    "model = RandomForestClassifier(n_estimators=25, min_samples_split=25, max_depth=7, max_features=1)\n",
    "predictor_var = ['Credit_History', 'pay_back', 'totalincome_log', 'loanamt_log', 'Dependents']\n",
    "classification_model(model, df, predictor_var, outcome_var)"
   ]
  },
  {
   "cell_type": "code",
   "execution_count": 314,
   "metadata": {
    "collapsed": false
   },
   "outputs": [],
   "source": [
    "#The above is a good model to use since even though it has lower accuracy that previous models, the cross-validation \n",
    "#score is improving which means that the model is generalizing well. Use this model to score the test data\n",
    "df_test = pd.read_csv(\"test.csv\")\n",
    "df_test['LoanAmount'] = df['LoanAmount'] * 1000\n",
    "#df_test.head(10)\n",
    "#df_test.describe()\n"
   ]
  },
  {
   "cell_type": "code",
   "execution_count": 315,
   "metadata": {
    "collapsed": false
   },
   "outputs": [
    {
     "data": {
      "text/plain": [
       "Loan_ID               0\n",
       "Gender               11\n",
       "Married               0\n",
       "Dependents           10\n",
       "Education             0\n",
       "Self_Employed        23\n",
       "ApplicantIncome       0\n",
       "CoapplicantIncome     0\n",
       "LoanAmount           14\n",
       "Loan_Amount_Term      6\n",
       "Credit_History       29\n",
       "Property_Area         0\n",
       "dtype: int64"
      ]
     },
     "execution_count": 315,
     "metadata": {},
     "output_type": "execute_result"
    }
   ],
   "source": [
    "#Check missing values in the dataset\n",
    "df_test.apply(lambda x: sum(x.isnull()), axis=0)\n",
    "#To impute missing values, use average or largest percentage value"
   ]
  },
  {
   "cell_type": "code",
   "execution_count": 316,
   "metadata": {
    "collapsed": false
   },
   "outputs": [],
   "source": [
    "df_test.Gender.value_counts(normalize=True)\n",
    "df_test.Gender.fillna('Male', inplace=True)"
   ]
  },
  {
   "cell_type": "code",
   "execution_count": 317,
   "metadata": {
    "collapsed": false
   },
   "outputs": [],
   "source": [
    "df_test.Dependents.value_counts(normalize=True)\n",
    "df_test.Dependents.fillna(0, inplace=True)"
   ]
  },
  {
   "cell_type": "code",
   "execution_count": 318,
   "metadata": {
    "collapsed": false
   },
   "outputs": [],
   "source": [
    "df_test.Self_Employed.value_counts(normalize=True)\n",
    "df_test.Self_Employed.fillna('No', inplace=True)"
   ]
  },
  {
   "cell_type": "code",
   "execution_count": 319,
   "metadata": {
    "collapsed": false
   },
   "outputs": [],
   "source": [
    "df_test.LoanAmount.describe()\n",
    "df_test.LoanAmount.fillna(df_test.LoanAmount.mean(), inplace=True)"
   ]
  },
  {
   "cell_type": "code",
   "execution_count": 320,
   "metadata": {
    "collapsed": false
   },
   "outputs": [],
   "source": [
    "df_test.Loan_Amount_Term.value_counts()\n",
    "df_test.Loan_Amount_Term.fillna(360.0, inplace=True)"
   ]
  },
  {
   "cell_type": "code",
   "execution_count": 321,
   "metadata": {
    "collapsed": false
   },
   "outputs": [],
   "source": [
    "df_test.Credit_History.value_counts()\n",
    "df_test.Credit_History.fillna(1.0, inplace=True)"
   ]
  },
  {
   "cell_type": "code",
   "execution_count": 322,
   "metadata": {
    "collapsed": true
   },
   "outputs": [],
   "source": [
    "predictor_var = ['Credit_History', 'pay_back', 'totalincome_log', 'loanamt_log', 'Dependents']\n",
    "df_test['totalincome'] = df_test.ApplicantIncome + df_test.CoapplicantIncome\n",
    "df_test['pay_back'] = df_test['LoanAmount'] / df_test['totalincome']\n",
    "df_test['totalincome_log'] = np.log(df_test.totalincome)\n",
    "df_test['loanamt_log'] = np.log(df_test.LoanAmount)\n"
   ]
  },
  {
   "cell_type": "code",
   "execution_count": 323,
   "metadata": {
    "collapsed": false
   },
   "outputs": [],
   "source": [
    "#Convert the variables to numeric\n",
    "var_mod = predictor_var\n",
    "le = LabelEncoder()\n",
    "for i in var_mod:\n",
    "    df_test[i] = le.fit_transform(df_test[i])\n",
    "#df.dtypes"
   ]
  },
  {
   "cell_type": "code",
   "execution_count": 328,
   "metadata": {
    "collapsed": false
   },
   "outputs": [],
   "source": [
    "df_test['Loan_Status_Pred'] = model.predict(df_test[predictor_var])\n",
    "df_test['Loan_Status'] = np.where(df_test['Loan_Status_Pred']==1, 'Y', 'N')"
   ]
  },
  {
   "cell_type": "code",
   "execution_count": 329,
   "metadata": {
    "collapsed": false
   },
   "outputs": [
    {
     "data": {
      "text/html": [
       "<div>\n",
       "<table border=\"1\" class=\"dataframe\">\n",
       "  <thead>\n",
       "    <tr style=\"text-align: right;\">\n",
       "      <th></th>\n",
       "      <th>Loan_ID</th>\n",
       "      <th>Gender</th>\n",
       "      <th>Married</th>\n",
       "      <th>Dependents</th>\n",
       "      <th>Education</th>\n",
       "      <th>Self_Employed</th>\n",
       "      <th>ApplicantIncome</th>\n",
       "      <th>CoapplicantIncome</th>\n",
       "      <th>LoanAmount</th>\n",
       "      <th>Loan_Amount_Term</th>\n",
       "      <th>Credit_History</th>\n",
       "      <th>Property_Area</th>\n",
       "      <th>totalincome</th>\n",
       "      <th>pay_back</th>\n",
       "      <th>totalincome_log</th>\n",
       "      <th>loanamt_log</th>\n",
       "      <th>Loan_Status_Pred</th>\n",
       "      <th>Loan_Status</th>\n",
       "    </tr>\n",
       "  </thead>\n",
       "  <tbody>\n",
       "    <tr>\n",
       "      <th>0</th>\n",
       "      <td>LP001015</td>\n",
       "      <td>Male</td>\n",
       "      <td>Yes</td>\n",
       "      <td>1</td>\n",
       "      <td>Graduate</td>\n",
       "      <td>No</td>\n",
       "      <td>5720</td>\n",
       "      <td>0</td>\n",
       "      <td>1.452011e+08</td>\n",
       "      <td>360.0</td>\n",
       "      <td>1</td>\n",
       "      <td>Urban</td>\n",
       "      <td>5720</td>\n",
       "      <td>191</td>\n",
       "      <td>207</td>\n",
       "      <td>84</td>\n",
       "      <td>1</td>\n",
       "      <td>Y</td>\n",
       "    </tr>\n",
       "    <tr>\n",
       "      <th>1</th>\n",
       "      <td>LP001022</td>\n",
       "      <td>Male</td>\n",
       "      <td>Yes</td>\n",
       "      <td>2</td>\n",
       "      <td>Graduate</td>\n",
       "      <td>No</td>\n",
       "      <td>3076</td>\n",
       "      <td>1500</td>\n",
       "      <td>1.280000e+08</td>\n",
       "      <td>360.0</td>\n",
       "      <td>1</td>\n",
       "      <td>Urban</td>\n",
       "      <td>4576</td>\n",
       "      <td>219</td>\n",
       "      <td>124</td>\n",
       "      <td>68</td>\n",
       "      <td>1</td>\n",
       "      <td>Y</td>\n",
       "    </tr>\n",
       "    <tr>\n",
       "      <th>2</th>\n",
       "      <td>LP001031</td>\n",
       "      <td>Male</td>\n",
       "      <td>Yes</td>\n",
       "      <td>3</td>\n",
       "      <td>Graduate</td>\n",
       "      <td>No</td>\n",
       "      <td>5000</td>\n",
       "      <td>1800</td>\n",
       "      <td>6.600000e+07</td>\n",
       "      <td>360.0</td>\n",
       "      <td>1</td>\n",
       "      <td>Urban</td>\n",
       "      <td>6800</td>\n",
       "      <td>33</td>\n",
       "      <td>251</td>\n",
       "      <td>17</td>\n",
       "      <td>1</td>\n",
       "      <td>Y</td>\n",
       "    </tr>\n",
       "    <tr>\n",
       "      <th>3</th>\n",
       "      <td>LP001035</td>\n",
       "      <td>Male</td>\n",
       "      <td>Yes</td>\n",
       "      <td>3</td>\n",
       "      <td>Graduate</td>\n",
       "      <td>No</td>\n",
       "      <td>2340</td>\n",
       "      <td>2546</td>\n",
       "      <td>1.200000e+08</td>\n",
       "      <td>360.0</td>\n",
       "      <td>1</td>\n",
       "      <td>Urban</td>\n",
       "      <td>4886</td>\n",
       "      <td>187</td>\n",
       "      <td>148</td>\n",
       "      <td>60</td>\n",
       "      <td>1</td>\n",
       "      <td>Y</td>\n",
       "    </tr>\n",
       "    <tr>\n",
       "      <th>4</th>\n",
       "      <td>LP001051</td>\n",
       "      <td>Male</td>\n",
       "      <td>No</td>\n",
       "      <td>1</td>\n",
       "      <td>Not Graduate</td>\n",
       "      <td>No</td>\n",
       "      <td>3276</td>\n",
       "      <td>0</td>\n",
       "      <td>1.410000e+08</td>\n",
       "      <td>360.0</td>\n",
       "      <td>1</td>\n",
       "      <td>Urban</td>\n",
       "      <td>3276</td>\n",
       "      <td>310</td>\n",
       "      <td>36</td>\n",
       "      <td>81</td>\n",
       "      <td>1</td>\n",
       "      <td>Y</td>\n",
       "    </tr>\n",
       "    <tr>\n",
       "      <th>5</th>\n",
       "      <td>LP001054</td>\n",
       "      <td>Male</td>\n",
       "      <td>Yes</td>\n",
       "      <td>1</td>\n",
       "      <td>Not Graduate</td>\n",
       "      <td>Yes</td>\n",
       "      <td>2165</td>\n",
       "      <td>3422</td>\n",
       "      <td>2.670000e+08</td>\n",
       "      <td>360.0</td>\n",
       "      <td>1</td>\n",
       "      <td>Urban</td>\n",
       "      <td>5587</td>\n",
       "      <td>319</td>\n",
       "      <td>198</td>\n",
       "      <td>129</td>\n",
       "      <td>1</td>\n",
       "      <td>Y</td>\n",
       "    </tr>\n",
       "    <tr>\n",
       "      <th>6</th>\n",
       "      <td>LP001055</td>\n",
       "      <td>Female</td>\n",
       "      <td>No</td>\n",
       "      <td>2</td>\n",
       "      <td>Not Graduate</td>\n",
       "      <td>No</td>\n",
       "      <td>2226</td>\n",
       "      <td>0</td>\n",
       "      <td>9.500000e+07</td>\n",
       "      <td>360.0</td>\n",
       "      <td>1</td>\n",
       "      <td>Semiurban</td>\n",
       "      <td>2226</td>\n",
       "      <td>308</td>\n",
       "      <td>3</td>\n",
       "      <td>38</td>\n",
       "      <td>0</td>\n",
       "      <td>N</td>\n",
       "    </tr>\n",
       "    <tr>\n",
       "      <th>7</th>\n",
       "      <td>LP001056</td>\n",
       "      <td>Male</td>\n",
       "      <td>Yes</td>\n",
       "      <td>3</td>\n",
       "      <td>Not Graduate</td>\n",
       "      <td>No</td>\n",
       "      <td>3881</td>\n",
       "      <td>0</td>\n",
       "      <td>1.580000e+08</td>\n",
       "      <td>360.0</td>\n",
       "      <td>0</td>\n",
       "      <td>Rural</td>\n",
       "      <td>3881</td>\n",
       "      <td>302</td>\n",
       "      <td>70</td>\n",
       "      <td>90</td>\n",
       "      <td>0</td>\n",
       "      <td>N</td>\n",
       "    </tr>\n",
       "    <tr>\n",
       "      <th>8</th>\n",
       "      <td>LP001059</td>\n",
       "      <td>Male</td>\n",
       "      <td>Yes</td>\n",
       "      <td>3</td>\n",
       "      <td>Graduate</td>\n",
       "      <td>No</td>\n",
       "      <td>13633</td>\n",
       "      <td>0</td>\n",
       "      <td>1.680000e+08</td>\n",
       "      <td>240.0</td>\n",
       "      <td>1</td>\n",
       "      <td>Urban</td>\n",
       "      <td>13633</td>\n",
       "      <td>57</td>\n",
       "      <td>333</td>\n",
       "      <td>97</td>\n",
       "      <td>1</td>\n",
       "      <td>Y</td>\n",
       "    </tr>\n",
       "    <tr>\n",
       "      <th>9</th>\n",
       "      <td>LP001067</td>\n",
       "      <td>Male</td>\n",
       "      <td>No</td>\n",
       "      <td>1</td>\n",
       "      <td>Not Graduate</td>\n",
       "      <td>No</td>\n",
       "      <td>2400</td>\n",
       "      <td>2400</td>\n",
       "      <td>3.490000e+08</td>\n",
       "      <td>360.0</td>\n",
       "      <td>1</td>\n",
       "      <td>Semiurban</td>\n",
       "      <td>4800</td>\n",
       "      <td>350</td>\n",
       "      <td>143</td>\n",
       "      <td>142</td>\n",
       "      <td>1</td>\n",
       "      <td>Y</td>\n",
       "    </tr>\n",
       "  </tbody>\n",
       "</table>\n",
       "</div>"
      ],
      "text/plain": [
       "    Loan_ID  Gender Married  Dependents     Education Self_Employed  \\\n",
       "0  LP001015    Male     Yes           1      Graduate            No   \n",
       "1  LP001022    Male     Yes           2      Graduate            No   \n",
       "2  LP001031    Male     Yes           3      Graduate            No   \n",
       "3  LP001035    Male     Yes           3      Graduate            No   \n",
       "4  LP001051    Male      No           1  Not Graduate            No   \n",
       "5  LP001054    Male     Yes           1  Not Graduate           Yes   \n",
       "6  LP001055  Female      No           2  Not Graduate            No   \n",
       "7  LP001056    Male     Yes           3  Not Graduate            No   \n",
       "8  LP001059    Male     Yes           3      Graduate            No   \n",
       "9  LP001067    Male      No           1  Not Graduate            No   \n",
       "\n",
       "   ApplicantIncome  CoapplicantIncome    LoanAmount  Loan_Amount_Term  \\\n",
       "0             5720                  0  1.452011e+08             360.0   \n",
       "1             3076               1500  1.280000e+08             360.0   \n",
       "2             5000               1800  6.600000e+07             360.0   \n",
       "3             2340               2546  1.200000e+08             360.0   \n",
       "4             3276                  0  1.410000e+08             360.0   \n",
       "5             2165               3422  2.670000e+08             360.0   \n",
       "6             2226                  0  9.500000e+07             360.0   \n",
       "7             3881                  0  1.580000e+08             360.0   \n",
       "8            13633                  0  1.680000e+08             240.0   \n",
       "9             2400               2400  3.490000e+08             360.0   \n",
       "\n",
       "   Credit_History Property_Area  totalincome  pay_back  totalincome_log  \\\n",
       "0               1         Urban         5720       191              207   \n",
       "1               1         Urban         4576       219              124   \n",
       "2               1         Urban         6800        33              251   \n",
       "3               1         Urban         4886       187              148   \n",
       "4               1         Urban         3276       310               36   \n",
       "5               1         Urban         5587       319              198   \n",
       "6               1     Semiurban         2226       308                3   \n",
       "7               0         Rural         3881       302               70   \n",
       "8               1         Urban        13633        57              333   \n",
       "9               1     Semiurban         4800       350              143   \n",
       "\n",
       "   loanamt_log  Loan_Status_Pred Loan_Status  \n",
       "0           84                 1           Y  \n",
       "1           68                 1           Y  \n",
       "2           17                 1           Y  \n",
       "3           60                 1           Y  \n",
       "4           81                 1           Y  \n",
       "5          129                 1           Y  \n",
       "6           38                 0           N  \n",
       "7           90                 0           N  \n",
       "8           97                 1           Y  \n",
       "9          142                 1           Y  "
      ]
     },
     "execution_count": 329,
     "metadata": {},
     "output_type": "execute_result"
    }
   ],
   "source": [
    "df_test.head(10)"
   ]
  },
  {
   "cell_type": "code",
   "execution_count": 330,
   "metadata": {
    "collapsed": true
   },
   "outputs": [],
   "source": [
    "df_test.to_csv(\"submission_1.csv\")"
   ]
  },
  {
   "cell_type": "code",
   "execution_count": null,
   "metadata": {
    "collapsed": true
   },
   "outputs": [],
   "source": []
  }
 ],
 "metadata": {
  "kernelspec": {
   "display_name": "Python 2",
   "language": "python",
   "name": "python2"
  },
  "language_info": {
   "codemirror_mode": {
    "name": "ipython",
    "version": 2
   },
   "file_extension": ".py",
   "mimetype": "text/x-python",
   "name": "python",
   "nbconvert_exporter": "python",
   "pygments_lexer": "ipython2",
   "version": "2.7.13"
  }
 },
 "nbformat": 4,
 "nbformat_minor": 2
}
